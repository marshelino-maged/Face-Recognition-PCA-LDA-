{
 "cells": [
  {
   "cell_type": "markdown",
   "metadata": {},
   "source": [
    "## Data preparation\n"
   ]
  },
  {
   "cell_type": "markdown",
   "metadata": {},
   "source": [
    "### Reading Data\n"
   ]
  },
  {
   "cell_type": "markdown",
   "metadata": {},
   "source": [
    "- read_data from dataset\n",
    "\n",
    "- convert images to gray scale\n",
    "\n",
    "- convert each image to a vector of 10304 value\n",
    "\n",
    "- stack 400 vector into a single data matrix\n",
    "\n"
   ]
  },
  {
   "cell_type": "code",
   "execution_count": 2,
   "metadata": {},
   "outputs": [],
   "source": [
    "import cv2\n",
    "import numpy as np\n",
    "\n",
    "path = \"dataset\\\\s%d\\\\%d.pgm\"\n",
    "\n",
    "def read_data (): \n",
    "\n",
    "    data_matrix = np.empty((0, 10304))  \n",
    "    \n",
    "    for folder_counter in range (1, 41):\n",
    "        for image_counter in range (1, 11):\n",
    "            image = cv2.imread(path%(folder_counter,image_counter))\n",
    "            gray_image = cv2.cvtColor(image, cv2.COLOR_BGR2GRAY)\n",
    "            flattened_image = gray_image.flatten()\n",
    "            flattened_image = np.array(flattened_image)\n",
    "            data_matrix = np.append(data_matrix, [flattened_image], axis=0)\n",
    "            # data_matrix = np.vstack((data_matrix, flattened_image))\n",
    "    \n",
    "    print(data_matrix.shape)\n",
    "\n",
    "    return data_matrix\n"
   ]
  },
  {
   "cell_type": "markdown",
   "metadata": {},
   "source": []
  },
  {
   "cell_type": "markdown",
   "metadata": {},
   "source": [
    "### Splitting data to training and testing data"
   ]
  },
  {
   "cell_type": "code",
   "execution_count": 3,
   "metadata": {},
   "outputs": [],
   "source": [
    "\n",
    "\n",
    "def split_data(data_matrix):\n",
    "    \n",
    "    test_data = data_matrix[::2] #even  \n",
    "    training_data = data_matrix[1::2] #odd\n",
    "\n",
    "    return test_data, training_data"
   ]
  },
  {
   "cell_type": "markdown",
   "metadata": {},
   "source": [
    "## PCA\n"
   ]
  },
  {
   "cell_type": "code",
   "execution_count": 44,
   "metadata": {},
   "outputs": [
    {
     "name": "stdout",
     "output_type": "stream",
     "text": [
      "[[ 35.98943074  -9.8642548 ]\n",
      " [ 16.04717787   3.84860823]\n",
      " [-14.10610139  12.27120986]\n",
      " [  6.05083167   3.82195082]\n",
      " [-43.98133889 -10.07751411]]\n"
     ]
    }
   ],
   "source": [
    "\n",
    "def PCA(training_data, alpha):\n",
    "\n",
    "    mean_vector = np.mean(training_data, axis=0)\n",
    "   \n",
    "    centered_training_data = training_data - mean_vector\n",
    "   \n",
    "    covariance_matrix = np.cov(np.transpose(centered_training_data), bias= True)\n",
    "   \n",
    "    eigenvalues, eigenvectors = np.linalg.eig(covariance_matrix)\n",
    "   \n",
    "    sorted_indices = np.argsort(eigenvalues)[::-1]\n",
    "   \n",
    "    sorted_eigenvalues = eigenvalues[sorted_indices]\n",
    "\n",
    "    accum = sorted_eigenvalues[0]\n",
    "  \n",
    "    sum = np.sum(sorted_eigenvalues)\n",
    "  \n",
    "    i = 1\n",
    "   \n",
    "    while( accum / sum < alpha):\n",
    "        accum+=sorted_eigenvalues[i]\n",
    "        i+=1\n",
    "\n",
    "    projection_matrix = eigenvectors[:, sorted_indices][:, :i]\n",
    "  \n",
    "    reduced_dimensionality_data = np.transpose(projection_matrix).dot(np.transpose(centered_training_data))\n",
    "\n",
    "    return np.transpose(reduced_dimensionality_data)\n",
    "\n",
    "\n",
    "\n",
    "arr = np.array([[10,60,90],[20,50,70],[30,50,40],[20,50,60],[10,60,10]])\n",
    "print(PCA(arr, 0.91))\n"
   ]
  },
  {
   "cell_type": "markdown",
   "metadata": {},
   "source": []
  }
 ],
 "metadata": {
  "kernelspec": {
   "display_name": "Python 3",
   "language": "python",
   "name": "python3"
  },
  "language_info": {
   "codemirror_mode": {
    "name": "ipython",
    "version": 3
   },
   "file_extension": ".py",
   "mimetype": "text/x-python",
   "name": "python",
   "nbconvert_exporter": "python",
   "pygments_lexer": "ipython3",
   "version": "3.9.13"
  }
 },
 "nbformat": 4,
 "nbformat_minor": 2
}
