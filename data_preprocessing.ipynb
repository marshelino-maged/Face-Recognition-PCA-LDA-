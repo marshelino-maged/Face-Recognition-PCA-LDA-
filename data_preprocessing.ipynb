{
 "cells": [
  {
   "cell_type": "markdown",
   "metadata": {},
   "source": [
    "## Non-faces Data Preprocessing"
   ]
  },
  {
   "cell_type": "code",
   "execution_count": 1,
   "metadata": {},
   "outputs": [],
   "source": [
    "import os\n",
    "import cv2\n",
    "\n",
    "def rename_and_resize_images(folder_path,new_folder_path, width, height):\n",
    "  \n",
    "    files = os.listdir(folder_path)\n",
    "    \n",
    "    files.sort()\n",
    "    \n",
    "    counter = 1\n",
    "\n",
    "    for file_name in files:\n",
    "        \n",
    "        old_path = os.path.join(folder_path, file_name)\n",
    "        \n",
    "        image = cv2.imread(old_path)\n",
    "        \n",
    "        resized_image = cv2.resize(image, (width, height))\n",
    "        \n",
    "        new_file_name = str(counter) + os.path.splitext(file_name)[1]\n",
    "\n",
    "        resized_image = cv2.cvtColor(resized_image, cv2.COLOR_BGR2GRAY)\n",
    "\n",
    "        new_path = os.path.join(new_folder_path, new_file_name)\n",
    "    \n",
    "        cv2.imwrite(new_path, resized_image)\n",
    "        \n",
    "        counter += 1\n",
    "        \n",
    "        # os.remove(old_path)\n",
    "\n",
    "folder_path = 'non_faces_dataset'\n",
    "new_folder_path = 'processed_nonfaces_dataset'\n",
    "width = 92\n",
    "height = 112\n",
    "\n",
    "rename_and_resize_images(folder_path,new_folder_path, width, height)\n"
   ]
  }
 ],
 "metadata": {
  "kernelspec": {
   "display_name": "Python 3",
   "language": "python",
   "name": "python3"
  },
  "language_info": {
   "codemirror_mode": {
    "name": "ipython",
    "version": 3
   },
   "file_extension": ".py",
   "mimetype": "text/x-python",
   "name": "python",
   "nbconvert_exporter": "python",
   "pygments_lexer": "ipython3",
   "version": "3.9.13"
  }
 },
 "nbformat": 4,
 "nbformat_minor": 2
}
